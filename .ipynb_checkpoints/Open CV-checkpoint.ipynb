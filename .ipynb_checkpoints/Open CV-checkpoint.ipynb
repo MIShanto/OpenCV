{
 "cells": [
  {
   "cell_type": "code",
   "execution_count": null,
   "metadata": {},
   "outputs": [],
   "source": [
    "import cv2\n"
   ]
  },
  {
   "cell_type": "markdown",
   "metadata": {},
   "source": [
    "### read image"
   ]
  },
  {
   "cell_type": "code",
   "execution_count": null,
   "metadata": {},
   "outputs": [],
   "source": [
    "img = cv2.imread(\"Resources/lena.png\")"
   ]
  },
  {
   "cell_type": "code",
   "execution_count": null,
   "metadata": {},
   "outputs": [],
   "source": [
    "img"
   ]
  },
  {
   "cell_type": "code",
   "execution_count": null,
   "metadata": {},
   "outputs": [],
   "source": [
    "cv2.imshow(\"output\", img)\n",
    "cv2.waitKey(0)"
   ]
  },
  {
   "cell_type": "markdown",
   "metadata": {},
   "source": [
    "### read video"
   ]
  },
  {
   "cell_type": "code",
   "execution_count": null,
   "metadata": {},
   "outputs": [],
   "source": [
    "import cv2\n",
    "vid = cv2.VideoCapture(\"Resources/test_video.mp4\")\n"
   ]
  },
  {
   "cell_type": "code",
   "execution_count": null,
   "metadata": {},
   "outputs": [],
   "source": [
    "vid"
   ]
  },
  {
   "cell_type": "code",
   "execution_count": null,
   "metadata": {},
   "outputs": [],
   "source": [
    "while True:\n",
    "    success, image = vid.read()\n",
    "    cv2.imshow(\"video\",image)\n",
    "    if cv2.waitKey(1) & 0XFF == ord('q'):\n",
    "        break\n",
    "    "
   ]
  },
  {
   "cell_type": "markdown",
   "metadata": {},
   "source": [
    "### read webcam"
   ]
  },
  {
   "cell_type": "code",
   "execution_count": null,
   "metadata": {},
   "outputs": [],
   "source": [
    "import cv2\n",
    "webcam = cv2.VideoCapture(0)\n",
    "webcam.set(3,640) # width\n",
    "webcam.set(4,480) # height\n",
    "#webcam.set(10,100) # brightness\n",
    "\n",
    "while True:\n",
    "    success, image = webcam.read()\n",
    "    cv2.imshow(\"video\",image)\n",
    "    if cv2.waitKey(1) & 0XFF == ord('q'):\n",
    "        break\n",
    "\n",
    "\n"
   ]
  },
  {
   "cell_type": "markdown",
   "metadata": {},
   "source": [
    "### Basic Functions"
   ]
  },
  {
   "cell_type": "code",
   "execution_count": null,
   "metadata": {},
   "outputs": [],
   "source": [
    "imgGray = cv2.cvtColor(img, cv2.COLOR_BGR2GRAY) # grayscale image\n",
    "cv2.imshow(\"gray_image\", imgGray)\n",
    "cv2.waitKey(0)"
   ]
  },
  {
   "cell_type": "code",
   "execution_count": null,
   "metadata": {},
   "outputs": [],
   "source": [
    "imgBlur = cv2.GaussianBlur(imgGray, (11,11),0) # blur image\n",
    "cv2.imshow(\"blur_image\", imgBlur)\n",
    "cv2.waitKey(0)"
   ]
  },
  {
   "cell_type": "code",
   "execution_count": null,
   "metadata": {},
   "outputs": [],
   "source": [
    "imgCanny = cv2.Canny(img, 100,200) # shows edges.. \n",
    "cv2.imshow(\"cany_image\", imgCanny)\n",
    "cv2.waitKey(0)"
   ]
  },
  {
   "cell_type": "code",
   "execution_count": null,
   "metadata": {},
   "outputs": [],
   "source": [
    "import numpy as np\n",
    "\n",
    "kernel = np.ones((5,5), np.uint8)\n",
    "\n",
    "imgDialation = cv2.dilate(imgCanny, kernel, iterations = 1) # make thick edges.. \n",
    "cv2.imshow(\"dilate_image\", imgDialation)\n",
    "cv2.waitKey(0)"
   ]
  },
  {
   "cell_type": "code",
   "execution_count": null,
   "metadata": {},
   "outputs": [],
   "source": [
    "imgEroded = cv2.erode(imgDialation, kernel, iterations =2) # make thin edges.. \n",
    "cv2.imshow(\"erode_image\", imgEroded)\n",
    "cv2.waitKey(0)"
   ]
  },
  {
   "cell_type": "markdown",
   "metadata": {},
   "source": [
    "### Resize and Cropping"
   ]
  },
  {
   "cell_type": "code",
   "execution_count": null,
   "metadata": {},
   "outputs": [],
   "source": [
    "import cv2\n",
    "import numpy as np\n",
    "\n",
    "img = cv2.imread(\"Resources/lambo.png\")\n",
    "cv2.imshow(\"output\", img)\n",
    "cv2.waitKey(0)"
   ]
  },
  {
   "cell_type": "code",
   "execution_count": null,
   "metadata": {},
   "outputs": [],
   "source": [
    "img.shape  # (height, width, channel)"
   ]
  },
  {
   "cell_type": "code",
   "execution_count": null,
   "metadata": {},
   "outputs": [],
   "source": [
    "imgResized = cv2.resize(img, (300,200)) # resize param: width = 300, height = 200\n",
    "\n",
    "cv2.imshow(\"output\", imgResized)\n",
    "cv2.waitKey(0)\n",
    "\n",
    "print(imgResized.shape) "
   ]
  },
  {
   "cell_type": "code",
   "execution_count": null,
   "metadata": {},
   "outputs": [],
   "source": [
    "imgCrop = img[0:200, 200:500]\n",
    "\n",
    "cv2.imshow(\"output\", imgCrop)\n",
    "cv2.waitKey(0)\n",
    "\n",
    "print(imgCrop.shape) "
   ]
  },
  {
   "cell_type": "markdown",
   "metadata": {},
   "source": [
    "### Shapes & texts"
   ]
  },
  {
   "cell_type": "code",
   "execution_count": null,
   "metadata": {},
   "outputs": [],
   "source": [
    "import cv2\n",
    "import numpy as np\n",
    "\n",
    "img = np.zeros((512, 512, 3), np.uint8)\n",
    "\n",
    "cv2.imshow(\"output\", img)\n",
    "cv2.waitKey(0)\n",
    "\n",
    "print(img.shape) "
   ]
  },
  {
   "cell_type": "code",
   "execution_count": null,
   "metadata": {},
   "outputs": [],
   "source": [
    "img[200:300, 300:500] = 255,255,0 # assigning colors to a diff section..\n",
    "\n",
    "cv2.imshow(\"output\", img)\n",
    "cv2.waitKey(0)"
   ]
  },
  {
   "cell_type": "code",
   "execution_count": null,
   "metadata": {},
   "outputs": [],
   "source": [
    "cv2.line(img, (0,0), (img.shape[1], img.shape[0]), (255,12,100),3) ## draws line\n",
    "\n",
    "cv2.imshow(\"output\", img)\n",
    "cv2.waitKey(0)"
   ]
  },
  {
   "cell_type": "markdown",
   "metadata": {},
   "source": [
    "####  we can use rectangle, circle and many more see doc"
   ]
  },
  {
   "cell_type": "code",
   "execution_count": null,
   "metadata": {},
   "outputs": [],
   "source": [
    "cv2.putText(img, \"GHORAR DIM\", (300,100), cv2.FONT_HERSHEY_COMPLEX, 1, (255,255,255), 1) # put texts\n",
    "\n",
    "cv2.imshow(\"output\", img)\n",
    "cv2.waitKey(0)"
   ]
  },
  {
   "cell_type": "markdown",
   "metadata": {},
   "source": [
    "### Wrap perspective"
   ]
  },
  {
   "cell_type": "code",
   "execution_count": null,
   "metadata": {},
   "outputs": [],
   "source": [
    "import cv2\n",
    "import numpy as np\n",
    "\n",
    "img = cv2.imread(\"Resources/cards.jpg\")\n",
    "cv2.imshow(\"output\", img)\n",
    "cv2.waitKey(0)"
   ]
  },
  {
   "cell_type": "code",
   "execution_count": null,
   "metadata": {},
   "outputs": [],
   "source": [
    "width, height = 250, 350\n",
    "\n",
    "pst1 = np.float32([[111,219],[287,188],[154,482],[352,440]]) # points that we want to show\n",
    "pst2 = np.float32([[0,0],[width,0],[0,height],[width,height]]) # points where we want to set the points of pst1\n",
    "\n",
    "matrix = cv2.getPerspectiveTransform(pst1,pst2)\n",
    "\n",
    "imgOut = cv2.warpPerspective(img, matrix, (width,height))\n",
    "\n",
    "cv2.imshow(\"output\", imgOut)\n",
    "cv2.waitKey(0)"
   ]
  },
  {
   "cell_type": "markdown",
   "metadata": {},
   "source": [
    "### Joining Images"
   ]
  },
  {
   "cell_type": "code",
   "execution_count": null,
   "metadata": {},
   "outputs": [],
   "source": [
    "imgHor = np.hstack((img,img)) # both of the img has to have same no of channels\n",
    "\n",
    "cv2.imshow(\"output\", imgHor)\n",
    "cv2.waitKey(0)"
   ]
  },
  {
   "cell_type": "code",
   "execution_count": null,
   "metadata": {},
   "outputs": [],
   "source": [
    "imgVer = np.vstack((img,img)) # both of the img has to have same no of channels\n",
    "\n",
    "cv2.imshow(\"output\", imgVer)\n",
    "cv2.waitKey(0)"
   ]
  },
  {
   "cell_type": "markdown",
   "metadata": {},
   "source": [
    "### Color Detection"
   ]
  },
  {
   "cell_type": "code",
   "execution_count": null,
   "metadata": {},
   "outputs": [],
   "source": [
    "imgHSV = cv2.cvtColor(img, cv2.COLOR_BGR2HSV)\n",
    "\n",
    "cv2.imshow(\"output\", imgHSV)\n",
    "cv2.waitKey(0)"
   ]
  },
  {
   "cell_type": "markdown",
   "metadata": {},
   "source": [
    "##### method for stacking diff images\n"
   ]
  },
  {
   "cell_type": "code",
   "execution_count": null,
   "metadata": {},
   "outputs": [],
   "source": [
    "def stackImages(scale,imgArray):\n",
    "    rows = len(imgArray)\n",
    "    cols = len(imgArray[0])\n",
    "    rowsAvailable = isinstance(imgArray[0], list)\n",
    "    width = imgArray[0][0].shape[1]\n",
    "    height = imgArray[0][0].shape[0]\n",
    "    if rowsAvailable:\n",
    "        for x in range ( 0, rows):\n",
    "            for y in range(0, cols):\n",
    "                if imgArray[x][y].shape[:2] == imgArray[0][0].shape [:2]:\n",
    "                    imgArray[x][y] = cv2.resize(imgArray[x][y], (0, 0), None, scale, scale)\n",
    "                else:\n",
    "                    imgArray[x][y] = cv2.resize(imgArray[x][y], (imgArray[0][0].shape[1], imgArray[0][0].shape[0]), None, scale, scale)\n",
    "                if len(imgArray[x][y].shape) == 2: imgArray[x][y]= cv2.cvtColor( imgArray[x][y], cv2.COLOR_GRAY2BGR)\n",
    "        imageBlank = np.zeros((height, width, 3), np.uint8)\n",
    "        hor = [imageBlank]*rows\n",
    "        hor_con = [imageBlank]*rows\n",
    "        for x in range(0, rows):\n",
    "            hor[x] = np.hstack(imgArray[x])\n",
    "        ver = np.vstack(hor)\n",
    "    else:\n",
    "        for x in range(0, rows):\n",
    "            if imgArray[x].shape[:2] == imgArray[0].shape[:2]:\n",
    "                imgArray[x] = cv2.resize(imgArray[x], (0, 0), None, scale, scale)\n",
    "            else:\n",
    "                imgArray[x] = cv2.resize(imgArray[x], (imgArray[0].shape[1], imgArray[0].shape[0]), None,scale, scale)\n",
    "            if len(imgArray[x].shape) == 2: imgArray[x] = cv2.cvtColor(imgArray[x], cv2.COLOR_GRAY2BGR)\n",
    "        hor= np.hstack(imgArray)\n",
    "        ver = hor\n",
    "    return ver"
   ]
  },
  {
   "cell_type": "code",
   "execution_count": null,
   "metadata": {},
   "outputs": [],
   "source": [
    "import cv2\n",
    "import numpy as np\n",
    "\n",
    "img = cv2.imread(\"Resources/lambo.png\")\n",
    "img = cv2.resize(img, (300,200)) # resize param: width = 300, height = 200\n",
    "\n",
    "#for creating the trackbar\n",
    "def empty(a):\n",
    "    pass\n",
    "\n",
    "# create a trackbar\n",
    "cv2.namedWindow(\"TrackBars\")\n",
    "cv2.resizeWindow(\"TrackBars\", 640, 240)\n",
    "cv2.createTrackbar(\"Hue min\", \"TrackBars\", 0, 179, empty)\n",
    "cv2.createTrackbar(\"Hue max\", \"TrackBars\", 19, 179, empty)\n",
    "cv2.createTrackbar(\"Sat min\", \"TrackBars\", 110, 255, empty)\n",
    "cv2.createTrackbar(\"Sat max\", \"TrackBars\", 240, 255, empty)\n",
    "cv2.createTrackbar(\"Val min\", \"TrackBars\", 153, 255, empty)\n",
    "cv2.createTrackbar(\"Val max\", \"TrackBars\", 255, 255, empty)\n",
    "\n",
    "# get values from the trackbar\n",
    "while True:\n",
    "    imgHSV = cv2.cvtColor(img, cv2.COLOR_BGR2HSV)\n",
    "    imgHSV = cv2.resize(imgHSV, (300,200)) # resize param: width = 300, height = 200\n",
    "    h_min = cv2.getTrackbarPos(\"Hue min\",\"TrackBars\")\n",
    "    h_max = cv2.getTrackbarPos(\"Hue max\",\"TrackBars\")\n",
    "    s_min = cv2.getTrackbarPos(\"Sat min\",\"TrackBars\")\n",
    "    s_max = cv2.getTrackbarPos(\"Sat max\",\"TrackBars\")\n",
    "    v_min = cv2.getTrackbarPos(\"Val min\",\"TrackBars\")\n",
    "    v_max = cv2.getTrackbarPos(\"Val max\",\"TrackBars\")\n",
    "    # create a mask\n",
    "    lower = np.array([h_min, s_min, v_min])\n",
    "    upper = np.array([h_max, s_max, v_max])\n",
    "    mask = cv2.inRange(imgHSV, lower, upper)\n",
    "    finalImage = cv2.bitwise_and(img, img, mask = mask)\n",
    "    \n",
    "    #show all images seperately.. \n",
    "    \n",
    "    \"\"\"\n",
    "    cv2.imshow(\"hsv img\", imgHSV)\n",
    "    cv2.imshow(\"main img\", img)\n",
    "    cv2.imshow(\"mask img\", mask)  \n",
    "    cv2.imshow(\"final img\", finalImage)\n",
    "    \"\"\" \n",
    "    #show all images stacked on a single window.. \n",
    "   \n",
    "    imgStack = stackImages(0.6, ([img, imgHSV],[mask, finalImage]))\n",
    "    cv2.imshow(\"final stacked img\", imgStack)\n",
    "\n",
    "    cv2.waitKey(1)"
   ]
  },
  {
   "cell_type": "markdown",
   "metadata": {},
   "source": [
    "### Shape Detection"
   ]
  },
  {
   "cell_type": "code",
   "execution_count": null,
   "metadata": {},
   "outputs": [],
   "source": []
  }
 ],
 "metadata": {
  "kernelspec": {
   "display_name": "Python 3",
   "language": "python",
   "name": "python3"
  },
  "language_info": {
   "codemirror_mode": {
    "name": "ipython",
    "version": 3
   },
   "file_extension": ".py",
   "mimetype": "text/x-python",
   "name": "python",
   "nbconvert_exporter": "python",
   "pygments_lexer": "ipython3",
   "version": "3.7.6"
  }
 },
 "nbformat": 4,
 "nbformat_minor": 4
}
